{
 "cells": [
  {
   "cell_type": "markdown",
   "id": "82c9427e",
   "metadata": {},
   "source": [
    "## My jupyter notebook "
   ]
  },
  {
   "cell_type": "markdown",
   "id": "d31477da",
   "metadata": {},
   "source": [
    "## Quoc Hung Nguyen\n",
    "## Data Scienctist"
   ]
  },
  {
   "cell_type": "markdown",
   "id": "0c925523",
   "metadata": {},
   "source": [
    "## Data Science Languages"
   ]
  },
  {
   "cell_type": "code",
   "execution_count": 1,
   "id": "91dcfb5b",
   "metadata": {},
   "outputs": [
    {
     "name": "stdout",
     "output_type": "stream",
     "text": [
      "['python', 'R', 'SQL']\n"
     ]
    }
   ],
   "source": [
    "ds_languages = [\"python\",\"R\",\"SQL\"]\n",
    "print(ds_languages)"
   ]
  },
  {
   "cell_type": "markdown",
   "id": "6f53decb",
   "metadata": {},
   "source": [
    "## Data Science Libraries"
   ]
  },
  {
   "cell_type": "code",
   "execution_count": 2,
   "id": "d539e1c6",
   "metadata": {},
   "outputs": [
    {
     "name": "stdout",
     "output_type": "stream",
     "text": [
      "['pandas', 'numpy', 'matpotlib']\n"
     ]
    }
   ],
   "source": [
    "ds_lib = [\"pandas\",\"numpy\",\"matpotlib\"]\n",
    "print(ds_lib)"
   ]
  },
  {
   "cell_type": "markdown",
   "id": "a863a249",
   "metadata": {},
   "source": [
    "## DS Tools\n",
    "## Jupyter Notebook\n",
    "## Spyder"
   ]
  },
  {
   "cell_type": "markdown",
   "id": "e857711f",
   "metadata": {},
   "source": [
    "## Intro To Arithmetic Op\n",
    "## * , /, +, -"
   ]
  },
  {
   "cell_type": "code",
   "execution_count": 3,
   "id": "1d3f012e",
   "metadata": {},
   "outputs": [
    {
     "data": {
      "text/plain": [
       "6"
      ]
     },
     "execution_count": 3,
     "metadata": {},
     "output_type": "execute_result"
    }
   ],
   "source": [
    "3+3"
   ]
  },
  {
   "cell_type": "code",
   "execution_count": 4,
   "id": "dba16042",
   "metadata": {},
   "outputs": [
    {
     "data": {
      "text/plain": [
       "48"
      ]
     },
     "execution_count": 4,
     "metadata": {},
     "output_type": "execute_result"
    }
   ],
   "source": [
    "6*8"
   ]
  },
  {
   "cell_type": "code",
   "execution_count": 5,
   "id": "841092b1",
   "metadata": {},
   "outputs": [
    {
     "data": {
      "text/plain": [
       "2"
      ]
     },
     "execution_count": 5,
     "metadata": {},
     "output_type": "execute_result"
    }
   ],
   "source": [
    "minutes=120\n",
    "hour=minutes//60\n",
    "hour"
   ]
  },
  {
   "cell_type": "code",
   "execution_count": null,
   "id": "8a54d4f7",
   "metadata": {},
   "outputs": [],
   "source": []
  }
 ],
 "metadata": {
  "kernelspec": {
   "display_name": "Python 3 (ipykernel)",
   "language": "python",
   "name": "python3"
  },
  "language_info": {
   "codemirror_mode": {
    "name": "ipython",
    "version": 3
   },
   "file_extension": ".py",
   "mimetype": "text/x-python",
   "name": "python",
   "nbconvert_exporter": "python",
   "pygments_lexer": "ipython3",
   "version": "3.9.12"
  }
 },
 "nbformat": 4,
 "nbformat_minor": 5
}
