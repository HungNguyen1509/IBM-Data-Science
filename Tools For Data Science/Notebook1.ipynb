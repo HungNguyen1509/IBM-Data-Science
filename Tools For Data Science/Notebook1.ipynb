{
 "cells": [
  {
   "cell_type": "markdown",
   "id": "82c9427e",
   "metadata": {},
   "source": [
    "## My jupyter notebook "
   ]
  },
  {
   "cell_type": "code",
   "execution_count": null,
   "id": "7b05400a",
   "metadata": {},
   "outputs": [],
   "source": []
  },
  {
   "cell_type": "markdown",
   "id": "d31477da",
   "metadata": {},
   "source": [
    "## Quoc Hung Nguyen\n",
    "Data Scientist"
   ]
  },
  {
   "cell_type": "code",
   "execution_count": null,
   "id": "5cb488c1",
   "metadata": {},
   "outputs": [],
   "source": []
  },
  {
   "cell_type": "markdown",
   "id": "0c925523",
   "metadata": {},
   "source": [
    "## Data Science Languages"
   ]
  },
  {
   "cell_type": "markdown",
   "id": "58c2710a",
   "metadata": {},
   "source": [
    "Some of the popular languages that Data Scientists use are:<br>\n",
    "1. Python <br>\n",
    "2. R<br>\n",
    "3. SQL <br>"
   ]
  },
  {
   "cell_type": "markdown",
   "id": "6f53decb",
   "metadata": {},
   "source": [
    "## Data Science Libraries"
   ]
  },
  {
   "cell_type": "markdown",
   "id": "a08359c6",
   "metadata": {},
   "source": [
    "Some of the popular libraries that Data Scientists use are:<br>\n",
    "1. Pandas <br>\n",
    "2. Matplotlib<br>\n",
    "3. Numpy <br>\n",
    "4. Pytorch <br>\n",
    "5. Scikit-learn <br>\n",
    "6. Keras <br>"
   ]
  },
  {
   "cell_type": "markdown",
   "id": "a863a249",
   "metadata": {},
   "source": [
    "## DS Tools\n",
    "Some of the popular data science tools that Data Scientists use are:<br>\n",
    "1. Jupyter Notebooks <br>\n",
    "2. R studio <br>\n",
    "3. Spyder <br>"
   ]
  },
  {
   "cell_type": "markdown",
   "id": "e857711f",
   "metadata": {},
   "source": [
    "## Intro To Arithmetic Op\n",
    "Samples of evaluating arithmetic expressions in Python"
   ]
  },
  {
   "cell_type": "code",
   "execution_count": 3,
   "id": "1d3f012e",
   "metadata": {},
   "outputs": [
    {
     "data": {
      "text/plain": [
       "6"
      ]
     },
     "execution_count": 3,
     "metadata": {},
     "output_type": "execute_result"
    }
   ],
   "source": [
    "3+3"
   ]
  },
  {
   "cell_type": "code",
   "execution_count": 4,
   "id": "dba16042",
   "metadata": {},
   "outputs": [
    {
     "data": {
      "text/plain": [
       "48"
      ]
     },
     "execution_count": 4,
     "metadata": {},
     "output_type": "execute_result"
    }
   ],
   "source": [
    "6*8"
   ]
  },
  {
   "cell_type": "code",
   "execution_count": 5,
   "id": "841092b1",
   "metadata": {},
   "outputs": [
    {
     "data": {
      "text/plain": [
       "2"
      ]
     },
     "execution_count": 5,
     "metadata": {},
     "output_type": "execute_result"
    }
   ],
   "source": [
    "minutes=120\n",
    "hour=minutes//60\n",
    "hour"
   ]
  },
  {
   "cell_type": "markdown",
   "id": "f93ca646",
   "metadata": {},
   "source": [
    "## Objectives\n",
    "- Add comments to code cells. <br>\n",
    "- Create markdown cells.<br>\n",
    "- Add ordered and unordered lists to markdown cells.<br>\n",
    "- Format content of markdown cells with heading styles.<br>"
   ]
  },
  {
   "cell_type": "markdown",
   "id": "4e467a8d",
   "metadata": {},
   "source": [
    "## Author:\n",
    "Quoc Hung Nguyen"
   ]
  }
 ],
 "metadata": {
  "kernelspec": {
   "display_name": "Python 3 (ipykernel)",
   "language": "python",
   "name": "python3"
  },
  "language_info": {
   "codemirror_mode": {
    "name": "ipython",
    "version": 3
   },
   "file_extension": ".py",
   "mimetype": "text/x-python",
   "name": "python",
   "nbconvert_exporter": "python",
   "pygments_lexer": "ipython3",
   "version": "3.9.12"
  }
 },
 "nbformat": 4,
 "nbformat_minor": 5
}
